{
 "cells": [
  {
   "cell_type": "markdown",
   "metadata": {},
   "source": [
    "# Dictionaries\n",
    "\n",
    "To submit this assignment in D2l, post the link to your notebook file on your GitHub account."
   ]
  },
  {
   "cell_type": "markdown",
   "metadata": {},
   "source": [
    "## 12.1 Champion Counter\n",
    "Create a program that reads a text file that contains a list of FIFA World Cup champions and determines the country that has won the most championships.\n",
    "\n",
    "### Console:\n",
    "```powershell\n",
    "Country\t        Wins\tYears\t\n",
    "=======\t        ====\t=====\t\n",
    "Argentina       2       1978, 1986\n",
    "Brazil\t        5       1958, 1962, 1970, 1994, 2002\n",
    "England\t        1       1966\t\t\n",
    "France\t        1       1998\t\t\n",
    "Germany\t        4       1954, 1974, 1990, 2014\n",
    "Italy\t        4       1934, 1938, 1982, 2006\n",
    "Spain\t        1       2010\n",
    "Uruguay\t        2       1930, 1950\n",
    "```\n",
    "\n",
    "### Specifications:\n",
    "- Use the attached text file named `world_cup_champions.txt` that contains data like this: \n",
    "```powershell\n",
    "Year,Country,Coach,Captain \n",
    "1930,Uruguay,Alberto Suppici,José Nasazzi \n",
    "1934,Italy,Vittorio Pozzo,Gianpiero Combi \n",
    "1938,Italy,Vittorio Pozzo,Giuseppe Meazza\n",
    "...\n",
    "```\n",
    "- When the program starts, it should read the text file and use a dictionary to store the required data using the name of each country that has won the World Cup as the key.\n",
    "- The program should compile the data shown above and display the countries alphabetically.\n",
    "\n"
   ]
  },
  {
   "cell_type": "code",
   "execution_count": 1,
   "metadata": {},
   "outputs": [
    {
     "name": "stdout",
     "output_type": "stream",
     "text": [
      "Country Wins Years\n",
      "======= ==== =====\n",
      "Argentina 1 1986\n",
      "Brazil 1 2002\n",
      "Country 1 Year\n",
      "England 1 1966\n",
      "France 1 1998\n",
      "Germany 1 2014\n",
      "Italy 1 2006\n",
      "Spain 1 2010\n",
      "Uruguay 1 1950\n",
      "\n",
      "Country with most wins:\n",
      "Argentina with 1 wins\n",
      "Brazil with 1 wins\n",
      "Country with 1 wins\n",
      "England with 1 wins\n",
      "France with 1 wins\n",
      "Germany with 1 wins\n",
      "Italy with 1 wins\n",
      "Spain with 1 wins\n",
      "Uruguay with 1 wins\n"
     ]
    }
   ],
   "source": [
    "def readInfo(cupFile):\n",
    "    champions = {}\n",
    "    with open(cupFile, 'r') as file:\n",
    "        for line in file:\n",
    "            line = line.strip()\n",
    "            if line:\n",
    "                year, country, coach, captain = line.split(',')\n",
    "                champions[country] = {'wins': 1,'years': [year]}\n",
    "    return champions\n",
    "def displayInfo(champions): \n",
    "    sorted_countries = sorted(champions.keys())\n",
    "\n",
    "    max_wins = max(champions[country]['wins'] for country in champions)\n",
    "    print(\"Country\", \"Wins\", \"Years\")\n",
    "    print(\"=======\", \"====\", \"=====\")\n",
    "\n",
    "    for country in sorted_countries:\n",
    "        wins = champions[country]['wins']\n",
    "        years = \", \".join(champions[country]['years'])\n",
    "        print(country, wins, years)\n",
    "\n",
    "    print(\"\\nCountry with most wins:\")\n",
    "    for country in sorted_countries:\n",
    "        if champions[country]['wins'] == max_wins:\n",
    "            print(f\"{country} with {max_wins} wins\")\n",
    "\n",
    "def main():\n",
    "    cupFile = 'world_cup_champions.txt'\n",
    "    champions = readInfo(cupFile)\n",
    "    displayInfo(champions)\n",
    "\n",
    "if __name__ == \"__main__\":\n",
    "    main()"
   ]
  },
  {
   "cell_type": "markdown",
   "metadata": {},
   "source": [
    "## 12.2 Monthly Sales\n",
    "Create a program that allows you to view and edit the sales amounts for each month of the current year.\n",
    "\n",
    "### Console:\n",
    "```powershell\n",
    "Monthly Sales program\n",
    "\n",
    "COMMAND MENU\n",
    "view\t- View sales for specified month \n",
    "edit\t- Edit sales for specified month \n",
    "totals - View sales summary for year \n",
    "exit\t- Exit program\n",
    "\n",
    "Command: view\n",
    "Three-letter Month: jan\n",
    "Sales amount for Jan is 14,317.00.\n",
    "\n",
    "Command: edit\n",
    "Three-letter Month: jan \n",
    "Sales Amount: 15293\n",
    "Sales amount for Jan is 15,293.00.\n",
    "\n",
    "Command: totals\n",
    "Yearly total: 67,855.00\n",
    "Monthly average: 5,654.58\n",
    "\n",
    "Command: view\n",
    "Three-letter Month: july \n",
    "Invalid three-letter month.\n",
    "\n",
    "Command: exit Bye!\n",
    "```\n",
    "\n",
    "### Specifications:\n",
    "- Use the attached text file named `monthly_sales.txt` that consists of rows that contain three-letter abbreviations for the month and the monthly sales.\n",
    "- The program should read the file and store the sales data for each month in a dictionary with the month abbreviation as the key for each item.\n",
    "- Whenever the sales data is edited, the program should write the changed data to the text file.\n",
    "\n",
    "\n"
   ]
  },
  {
   "cell_type": "code",
   "execution_count": null,
   "metadata": {},
   "outputs": [
    {
     "name": "stdout",
     "output_type": "stream",
     "text": [
      "Monthly Sales Program\n",
      "COMMAND MENU\n",
      "view\t- View sales for specified month\n",
      "edit\t- Edit sales for specified month\n",
      "total\t- View sales summary for one year\n",
      "exit\t- Exit program\n",
      "\n"
     ]
    },
    {
     "name": "stdin",
     "output_type": "stream",
     "text": [
      "Command:  view\n",
      "Three-letter Month:  may\n"
     ]
    },
    {
     "name": "stdout",
     "output_type": "stream",
     "text": [
      "Sales amount for may is 2429.00.\n",
      "\n"
     ]
    },
    {
     "name": "stdin",
     "output_type": "stream",
     "text": [
      "Command:  edit\n",
      "Three-letter Month:  may\n",
      "Sales Amount:  62\n"
     ]
    },
    {
     "name": "stdout",
     "output_type": "stream",
     "text": [
      "Sales amount for may is 62.00.\n",
      "\n"
     ]
    },
    {
     "name": "stdin",
     "output_type": "stream",
     "text": [
      "Command:  view\n",
      "Three-letter Month:  may\n"
     ]
    },
    {
     "name": "stdout",
     "output_type": "stream",
     "text": [
      "Sales amount for may is 62.00.\n",
      "\n"
     ]
    },
    {
     "name": "stdin",
     "output_type": "stream",
     "text": [
      "Command:  total\n"
     ]
    },
    {
     "name": "stdout",
     "output_type": "stream",
     "text": [
      "Yearly total: 64512.00\n",
      "Monthly average: 5376.00\n",
      "\n"
     ]
    }
   ],
   "source": [
    "file = \"monthly_sales.txt\"\n",
    "\n",
    "def displayMenu():\n",
    "    print(\"Monthly Sales Program\")\n",
    "    print(\"COMMAND MENU\")\n",
    "    print(\"view\\t- View sales for specified month\")\n",
    "    print(\"edit\\t- Edit sales for specified month\")\n",
    "    print(\"total\\t- View sales summary for one year\")\n",
    "    print(\"exit\\t- Exit program\\n\")\n",
    "\n",
    "def main():\n",
    "    sales = loadSales()\n",
    "    displayMenu()\n",
    "    choice(sales)\n",
    "\n",
    "def choice(sales):\n",
    "    while True:\n",
    "        userInput = input(\"Command: \").lower()\n",
    "        if userInput == \"view\":\n",
    "            viewSales(sales)\n",
    "        elif userInput == \"edit\":\n",
    "            editSales(sales)\n",
    "        elif userInput == \"total\":\n",
    "            showTotals(sales)\n",
    "        elif userInput == \"exit\":\n",
    "            print(\"Bye!\")\n",
    "            break\n",
    "        else:\n",
    "            print(\"Something has gone wrong. Please try again.\\n\")\n",
    "\n",
    "def loadSales():\n",
    "    sales = {}\n",
    "    with open(file, 'r') as f:\n",
    "        for line in f:\n",
    "            line = line.strip()\n",
    "            if line:\n",
    "                month, amount = line.split('\\t')\n",
    "                sales[month.lower()] = float(amount)\n",
    "    return sales\n",
    "\n",
    "def saveSales(sales):\n",
    "    with open(file, 'w') as f:\n",
    "        for month, amount in sales.items():\n",
    "            f.write(f\"{month.capitalize()}\\t{int(amount)}\\n\")\n",
    "\n",
    "def viewSales(sales):\n",
    "    month = input(\"Three-letter Month: \").lower()\n",
    "    if month in sales:\n",
    "        print(f\"Sales amount for {month} is {sales[month]:.2f}.\\n\")\n",
    "    else:\n",
    "        print(\"Invalid three-letter month.\\n\")\n",
    "\n",
    "def editSales(sales):\n",
    "    month = input(\"Three-letter Month: \").lower()\n",
    "    if month in sales:\n",
    "        amount = float(input(\"Sales Amount: \"))\n",
    "        sales[month] = amount\n",
    "        saveSales(sales)\n",
    "        print(f\"Sales amount for {month} is {sales[month]:.2f}.\\n\")\n",
    "    else:\n",
    "        print(\"Invalid three-letter month.\\n\")\n",
    "\n",
    "def showTotals(sales):\n",
    "    total = sum(sales.values())\n",
    "    average = total / len(sales)\n",
    "    print(f\"Yearly total: {total:.2f}\")\n",
    "    print(f\"Monthly average: {average:.2f}\\n\")\n",
    "\n",
    "if __name__ == \"__main__\":\n",
    "    main()"
   ]
  },
  {
   "cell_type": "markdown",
   "metadata": {},
   "source": []
  },
  {
   "cell_type": "code",
   "execution_count": null,
   "metadata": {},
   "outputs": [],
   "source": []
  }
 ],
 "metadata": {
  "kernelspec": {
   "display_name": "Python [conda env:base] *",
   "language": "python",
   "name": "conda-base-py"
  },
  "language_info": {
   "codemirror_mode": {
    "name": "ipython",
    "version": 3
   },
   "file_extension": ".py",
   "mimetype": "text/x-python",
   "name": "python",
   "nbconvert_exporter": "python",
   "pygments_lexer": "ipython3",
   "version": "3.12.7"
  }
 },
 "nbformat": 4,
 "nbformat_minor": 4
}
