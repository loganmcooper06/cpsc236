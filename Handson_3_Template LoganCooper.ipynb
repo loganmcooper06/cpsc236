{
 "cells": [
  {
   "cell_type": "markdown",
   "metadata": {},
   "source": [
    "# Functions\n",
    "\n",
    "To submit this assignment in D2l, post the link to your notebook file on your GitHub account."
   ]
  },
  {
   "cell_type": "markdown",
   "metadata": {},
   "source": [
    "## 4.1 Even or Odd Checker\n",
    "Create a program that checks whether a number is even or odd.\n",
    "\n",
    "### Console:\n",
    "```powershell\n",
    "Even or Odd Checker\n",
    "\n",
    "Enter an integer: 33\n",
    "This is an odd number.\n",
    "```\n",
    "\n",
    "### Specifications:\n",
    "- Store the code that gets user input and displays output in the main function.\n",
    "- Store the code that checks whether the number is even or odd in a separate function.\n",
    "- Assume that the user will enter a valid integer.\n"
   ]
  },
  {
   "cell_type": "code",
   "execution_count": 25,
   "metadata": {},
   "outputs": [
    {
     "name": "stdout",
     "output_type": "stream",
     "text": [
      "Even or Odd Checker\n"
     ]
    },
    {
     "name": "stdin",
     "output_type": "stream",
     "text": [
      "Enter an integer:  33\n"
     ]
    },
    {
     "name": "stdout",
     "output_type": "stream",
     "text": [
      "This is an odd number.\n"
     ]
    }
   ],
   "source": [
    "def checkEvenOdd(number):\n",
    "    if number % 2 == 0:\n",
    "        return \"even\"\n",
    "    else:\n",
    "        return \"odd\"\n",
    "\n",
    "def main():\n",
    "    print(\"Even or Odd Checker\")\n",
    "    number = int(input(\"Enter an integer: \"))\n",
    "    result = checkEvenOdd(number)\n",
    "    print(f\"This is an {result} number.\")\n",
    "\n",
    "if __name__ == \"__main__\":\n",
    "    main()"
   ]
  },
  {
   "cell_type": "markdown",
   "metadata": {},
   "source": [
    "## 4.2 - Feet and Meters Converter\n",
    "Create a program that converts feet to meters and vice versa.\n",
    "\n",
    "### Console\n",
    "```powershell\n",
    "Feet and Meters Converter\n",
    "\n",
    "Conversions Menu:\n",
    "a.\tFeet to Meters\n",
    "b.\tMeters to Feet\n",
    "Select a conversion (a/b): a\n",
    "\n",
    "Enter feet: 100\n",
    "30.48 meters\n",
    "\n",
    "Would you like to perform another conversion? (y/n): y \n",
    "\n",
    "Conversions Menu:\n",
    "a.\tFeet to Meters\n",
    "b.\tMeters to Feet\n",
    "Select a conversion (a/b): b\n",
    "\n",
    "Enter meters: 100\n",
    "328.08 feet\n",
    "\n",
    "Would you like to perform another conversion? (y/n): n\n",
    "\n",
    "Thanks, bye!\n",
    "```\n",
    "\n",
    "### Specifications:\n",
    "- The formula for converting feet to meters is:\n",
    "`feet = meters / 0.3048`\n",
    "\n",
    "- The formula for converting meters to feet is:\n",
    "`meters = feet * 0.3048`\n",
    "\n",
    "- Store the code that performs the conversions in functions within a module. For example, store the code that converts feet to meters in a function in a module.\n",
    "- Store the code that displays the title in its own function, and store the code that displays the menu in its own function, but store the rest of the code that gets input and displays output in a main function.\n",
    "- Assume the user will enter valid data.\n",
    "- The program should round results to a maximum of two decimal places.\n",
    "\n",
    "\n"
   ]
  },
  {
   "cell_type": "code",
   "execution_count": 27,
   "metadata": {},
   "outputs": [
    {
     "name": "stdout",
     "output_type": "stream",
     "text": [
      "Feet and Meters Converter\n",
      "\n",
      "Conversions Menu:\n",
      "a. Feet to Meters\n",
      "b. Meters to Feet\n"
     ]
    },
    {
     "name": "stdin",
     "output_type": "stream",
     "text": [
      "Select a conversion (a/b):  a\n",
      "Enter feet:  100\n"
     ]
    },
    {
     "name": "stdout",
     "output_type": "stream",
     "text": [
      "100.0 feet = 30.48 meters\n"
     ]
    },
    {
     "name": "stdin",
     "output_type": "stream",
     "text": [
      "Would you like to perform another conversion? (y/n):  y\n"
     ]
    },
    {
     "name": "stdout",
     "output_type": "stream",
     "text": [
      "Conversions Menu:\n",
      "a. Feet to Meters\n",
      "b. Meters to Feet\n"
     ]
    },
    {
     "name": "stdin",
     "output_type": "stream",
     "text": [
      "Select a conversion (a/b):  b\n",
      "Enter meters:  100\n"
     ]
    },
    {
     "name": "stdout",
     "output_type": "stream",
     "text": [
      "100.0 meters = 328.08 feet\n"
     ]
    },
    {
     "name": "stdin",
     "output_type": "stream",
     "text": [
      "Would you like to perform another conversion? (y/n):  n\n"
     ]
    },
    {
     "name": "stdout",
     "output_type": "stream",
     "text": [
      "Thanks, bye!\n"
     ]
    }
   ],
   "source": [
    "def feetToMeters(feet):\n",
    "    meters = feet * 0.3048\n",
    "    return round(meters, 2)\n",
    "\n",
    "def metersToFeet(meters):\n",
    "    feet = meters / 0.3048\n",
    "    return round(feet, 2)\n",
    "\n",
    "def displayTitle():\n",
    "    print(\"Feet and Meters Converter\")\n",
    "    print()\n",
    "\n",
    "def displayMenu():\n",
    "    print(\"Conversions Menu:\")\n",
    "    print(\"a. Feet to Meters\")\n",
    "    print(\"b. Meters to Feet\")\n",
    "\n",
    "def main():\n",
    "    displayTitle()\n",
    "    while True:\n",
    "        displayMenu()\n",
    "        choice = input(\"Select a conversion (a/b): \").lower()\n",
    "        \n",
    "        if choice == 'a':\n",
    "            feet = float(input(\"Enter feet: \"))\n",
    "            meters = feetToMeters(feet)\n",
    "            print(f\"{feet} feet = {meters} meters\")\n",
    "        elif choice == 'b':\n",
    "            meters = float(input(\"Enter meters: \"))\n",
    "            feet = metersToFeet(meters)\n",
    "            print(f\"{meters} meters = {feet} feet\")\n",
    "        \n",
    "        again = input(\"Would you like to perform another conversion? (y/n): \").lower()\n",
    "        if again != 'y':\n",
    "            break\n",
    "    print(\"Thanks, bye!\")\n",
    "\n",
    "if __name__ == \"__main__\":\n",
    "    main()"
   ]
  },
  {
   "cell_type": "markdown",
   "metadata": {},
   "source": [
    "## 4.3 - Sales Tax Calculator\n",
    "Create a program that uses a separate module to calculate sales tax and total after tax.\n",
    "\n",
    "### Console\n",
    "```powershell\n",
    "Sales Tax Calculator\n",
    "\n",
    "ENTER ITEMS (ENTER 0 TO END)\n",
    "Cost of item: 35.99 \n",
    "Cost of item: 27.50 \n",
    "Cost of item: 19.59 \n",
    "Cost of item: 0 \n",
    "Total:  83.08\n",
    "Sales tax:\t4.98\n",
    "Total after tax: 88.06 \n",
    "\n",
    "Again? (y/n): y\n",
    "\n",
    "ENTER ITEMS (ENTER 0 TO END)\n",
    "Cost of item: 152.50 \n",
    "Cost of item: 59.80 \n",
    "Cost of item: 0\n",
    "Total:  212.3\n",
    "Sales tax:\t12.74\n",
    "Total after tax: 225.04 \n",
    "\n",
    "Again? (y/n): n\n",
    "\n",
    "Thanks, bye!\n",
    "\n",
    "```\n",
    "\n",
    "### Specifications\n",
    "- The sales tax rate should be 6% of the total.\n",
    "- Store the sales tax rate in a module. This module should also contain functions that calculate the sales tax and the total after tax. These functions should round the results to a maximum of two decimal places. Upload the seperate sales tax module to your GitHub repo when submitting.\n",
    "- Store the code that gets input and displays output in this notebook. Divide this code into functions wherever you think it would make that code easier to read and maintain.\n",
    "- Assume the user will enter valid data.\n",
    "\n"
   ]
  },
  {
   "cell_type": "code",
   "execution_count": 1,
   "metadata": {},
   "outputs": [
    {
     "name": "stdout",
     "output_type": "stream",
     "text": [
      "Sales Tax Calculator\n",
      "\n",
      "ENTER ITEMS (ENTER 0 TO END)\n"
     ]
    },
    {
     "name": "stdin",
     "output_type": "stream",
     "text": [
      "Cost of item:  35.99\n",
      "Cost of item:  27.58\n",
      "Cost of item:  19.59\n",
      "Cost of item:  0\n"
     ]
    },
    {
     "name": "stdout",
     "output_type": "stream",
     "text": [
      "Total: 83.16\n",
      "Sales tax: 4.99\n",
      "Total after tax: 88.15\n",
      "\n"
     ]
    },
    {
     "name": "stdin",
     "output_type": "stream",
     "text": [
      "Again? (y/n):  n\n"
     ]
    },
    {
     "name": "stdout",
     "output_type": "stream",
     "text": [
      "Thanks, bye!\n"
     ]
    }
   ],
   "source": [
    "SALES_TAX_RATE = 0.06\n",
    "\n",
    "def calculateSalesTax(total):\n",
    "    salesTax = total * SALES_TAX_RATE\n",
    "    return round(salesTax, 2)\n",
    "\n",
    "def calculateTotalAfterTax(total):\n",
    "    salesTax = calculateSalesTax(total)\n",
    "    totalAfterTax = total + salesTax\n",
    "    return round(totalAfterTax, 2)\n",
    "\n",
    "def displayTitle():\n",
    "    print(\"Sales Tax Calculator\")\n",
    "    print()\n",
    "\n",
    "def getItemCosts():\n",
    "    itemCosts = []\n",
    "    while True:\n",
    "        cost = float(input(\"Cost of item: \"))\n",
    "        if cost == 0:\n",
    "            break\n",
    "        itemCosts.append(cost)\n",
    "    return itemCosts\n",
    "\n",
    "def calculateTotal(itemCosts):\n",
    "    total = sum(itemCosts)\n",
    "    return round(total, 2)\n",
    "\n",
    "def displayResults(total, salesTax, totalAfterTax):\n",
    "    print(f\"Total: {total}\")\n",
    "    print(f\"Sales tax: {salesTax}\")\n",
    "    print(f\"Total after tax: {totalAfterTax}\")\n",
    "    print()\n",
    "\n",
    "def main():\n",
    "    displayTitle()\n",
    "    while True:\n",
    "        print(\"ENTER ITEMS (ENTER 0 TO END)\")\n",
    "        itemCosts = getItemCosts()\n",
    "        total = calculateTotal(itemCosts)\n",
    "        salesTaxAmount = calculateSalesTax(total)\n",
    "        totalAfterTax = calculateTotalAfterTax(total)\n",
    "        displayResults(total, salesTaxAmount, totalAfterTax)\n",
    "        again = input(\"Again? (y/n): \").lower()\n",
    "        if again != 'y':\n",
    "            break\n",
    "    print(\"Thanks, bye!\")\n",
    "\n",
    "if __name__ == \"__main__\":\n",
    "    main()"
   ]
  },
  {
   "cell_type": "markdown",
   "metadata": {},
   "source": [
    "## 4.4 - Prime Number Checker\n",
    "Create a program that checks whether a number is a prime number and displays the total number of factors if it is not a prime number.\n",
    "\n",
    "### Console\n",
    "```powershell\n",
    "Prime Number Checker\n",
    "\n",
    "Please enter an integer between 1 and 5000: 1 \n",
    "Invalid integer. Please try again.\n",
    "Please enter an integer between 1 and 5000: 2\n",
    "2 is a prime number. \n",
    "\n",
    "Try again? (y/n): y\n",
    "\n",
    "Please enter an integer between 1 and 5000: 3\n",
    "3 is a prime number.\n",
    "\n",
    "Try again? (y/n): y\n",
    "\n",
    "Please enter an integer between 1 and 5000: 4\n",
    "4 is NOT a prime number.\n",
    "It has 3 factors.\n",
    "\n",
    "Try again? (y/n): y\n",
    "\n",
    "Please enter an integer between 1 and 5000: 6\n",
    "6 is NOT a prime number.\n",
    "It has 4 factors.\n",
    "\n",
    "Try again? (y/n): n\n",
    "\n",
    "Bye!\n",
    "```\n",
    "\n",
    "### Specifications\n",
    "- A prime number is only divisible by two factors (1 and itself). For example, 7 is a prime number because it is only divisible by 1 and 7.\n",
    "- If the number is not a prime number, the program should display its number of factors. For example, 6 has four factors (1, 2, 3, and 6).\n",
    "- Store the code that gets a valid integer for this program in its own function.\n",
    "- Store the code that calculates the number of factors for a number in its own function.\n",
    "- Store the rest of the code that gets input and displays output in the main function.\n",
    "\n"
   ]
  },
  {
   "cell_type": "code",
   "execution_count": null,
   "metadata": {},
   "outputs": [
    {
     "name": "stdout",
     "output_type": "stream",
     "text": [
      "Prime Number Checker\n"
     ]
    },
    {
     "name": "stdin",
     "output_type": "stream",
     "text": [
      "Please enter an integer between 1 and 5000:  1\n"
     ]
    },
    {
     "name": "stdout",
     "output_type": "stream",
     "text": [
      "Invalid integer. Please try again.\n"
     ]
    },
    {
     "name": "stdin",
     "output_type": "stream",
     "text": [
      "Please enter an integer between 1 and 5000:  2\n"
     ]
    },
    {
     "name": "stdout",
     "output_type": "stream",
     "text": [
      "2 is a prime number.\n"
     ]
    }
   ],
   "source": [
    "def getValidInt():\n",
    "\n",
    "    while True:\n",
    "            number = int(input(\"Please enter an integer between 1 and 5000: \"))\n",
    "            if 1 < number < 5000:\n",
    "                return number\n",
    "            else:\n",
    "                print(\"Invalid integer. Please try again.\")\n",
    "\n",
    "\n",
    "def countFactors(number):\n",
    "\n",
    "    factors = 0\n",
    "    for i in range(1, number + 1):\n",
    "        if number % i == 0:\n",
    "            factors += 1\n",
    "    return factors\n",
    "\n",
    "def isPrime(number):\n",
    "\n",
    "    if number < 2:\n",
    "        return False\n",
    "    for i in range(2, int(number**0.5) + 1):\n",
    "        if number % i == 0:\n",
    "            return False\n",
    "    return True\n",
    "\n",
    "def main():\n",
    "\n",
    "    print(\"Prime Number Checker\")\n",
    "    while True:\n",
    "\n",
    "        number = getValidInt()\n",
    "\n",
    "        if isPrime(number):\n",
    "            print(f\"{number} is a prime number.\")\n",
    "        else:\n",
    "\n",
    "            factors = countFactors(number)\n",
    "            print(f\"{number} is NOT a prime number.\")\n",
    "            print(f\"It has {factors} factors.\")\n",
    "\n",
    "        again = input(\"Try again? (y/n): \").lower()\n",
    "        if again != 'y':\n",
    "            break\n",
    "    print(\"Bye!\")\n",
    "\n",
    "\n",
    "if __name__ == \"__main__\":\n",
    "    main()"
   ]
  },
  {
   "cell_type": "code",
   "execution_count": null,
   "metadata": {},
   "outputs": [],
   "source": []
  }
 ],
 "metadata": {
  "kernelspec": {
   "display_name": "Python [conda env:base] *",
   "language": "python",
   "name": "conda-base-py"
  },
  "language_info": {
   "codemirror_mode": {
    "name": "ipython",
    "version": 3
   },
   "file_extension": ".py",
   "mimetype": "text/x-python",
   "name": "python",
   "nbconvert_exporter": "python",
   "pygments_lexer": "ipython3",
   "version": "3.12.7"
  }
 },
 "nbformat": 4,
 "nbformat_minor": 4
}
