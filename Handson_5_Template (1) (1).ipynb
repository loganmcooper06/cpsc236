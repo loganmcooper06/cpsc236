{
 "cells": [
  {
   "cell_type": "markdown",
   "metadata": {},
   "source": [
    "# File Input\n",
    "\n",
    "To submit this assignment in D2l, post the link to your notebook file on your GitHub account."
   ]
  },
  {
   "cell_type": "markdown",
   "metadata": {},
   "source": [
    "## 7.1 Pig Dice Rules\n",
    "Create a program that reads a list of rules from a file and displays them.\n",
    "\n",
    "### Console:\n",
    "```powershell\n",
    "Pig Dice Rules:\n",
    "*\tSee how many turns it takes you to get to 20.\n",
    "*\tTurn ends when player rolls a 1 or chooses to hold.\n",
    "*\tIf you roll a 1, you lose all points earned during the turn.\n",
    "*\tIf you hold, you save all points earned during the turn.\n",
    "```\n",
    "\n",
    "### Specifications:\n",
    "- Use the attached text file named `pig_dice_rules.txt` in the corresponding Directory.\n",
    "- Your program should read the text file and display it on the console.\n"
   ]
  },
  {
   "cell_type": "code",
   "execution_count": 3,
   "metadata": {},
   "outputs": [
    {
     "name": "stdout",
     "output_type": "stream",
     "text": [
      "Pig Dice Rules:\n",
      " * See how many turns it takes you to get to 20.\n",
      " * Turn ends when player rolls a 1 or chooses to hold.\n",
      " * If you roll a 1, you lose all points earned during the turn.\n",
      " * If you hold, you save all points earned during the turn. "
     ]
    }
   ],
   "source": [
    "\n",
    "\n",
    "with open(\"pig_dice_rules.txt\") as file:\n",
    "    for line in file:\n",
    "        print(line, end=\" \")\n"
   ]
  },
  {
   "cell_type": "markdown",
   "metadata": {},
   "source": [
    "## 7.2 Wizard Inventory\n",
    "Create a program that keeps track of the items that a wizard can carry.\n",
    "\n",
    "### Console:\n",
    "```powershell\n",
    "The Wizard Inventroy Program\n",
    "\n",
    "COMMAND MENU\n",
    "walk - Walk down the path \n",
    "show - Show all items \n",
    "drop - Drop an item\n",
    "exit - Exit program\n",
    "\n",
    "Command: walk\n",
    "While walking down a path, you see a scroll of uncursing. \n",
    "Do you want to grab it? (y/n): y\n",
    "You picked up a scroll of uncursing.\n",
    "\n",
    "Command: walk\n",
    "While walking down a path, you see an unknown potion. \n",
    "Do you want to grab it? (y/n): y\n",
    "You can't carry any more items. Drop something first.\n",
    "\n",
    "Command: show\n",
    "1.\ta wooden staff\n",
    "2.\ta scroll of invisibility\n",
    "3.\ta crossbow\n",
    "4.\ta scroll of uncursing\n",
    "\n",
    "Command: drop Number: 3\n",
    "You dropped a crossbow.\n",
    "\n",
    "Command: exit \n",
    "Bye!\n",
    "```\n",
    "\n",
    "### Specifications:\n",
    "- Use the attached text file named `wizard_all_items.txt` that contains a list of all the items that a wizard can carry. (in the corresponding directory)\n",
    "- When the user selects the walk command, the program should read the items from the file, randomly pick one, and give the user the option to grab it.\n",
    "- Your program should create another file that stores the items that the wizard is carrying (`wizard_inventory.txt`). Make sure to update this file every time the user grabs or drops an item.\n",
    "- The wizard can only carry **four** items at a time.\n",
    "- For the drop command, display an error message if the user enters an invalid number for the item.\n",
    "\n"
   ]
  },
  {
   "cell_type": "code",
   "execution_count": 9,
   "metadata": {},
   "outputs": [
    {
     "name": "stdout",
     "output_type": "stream",
     "text": [
      "The Wizard Inventory Program\n",
      "\n",
      "COMMAND MENU\n",
      "walk - Walk down the path\n",
      "show - Show all items\n",
      "drop - Drop an item\n",
      "exit - Exit program\n",
      "\n"
     ]
    },
    {
     "name": "stdin",
     "output_type": "stream",
     "text": [
      "Command:  walk\n"
     ]
    },
    {
     "name": "stdout",
     "output_type": "stream",
     "text": [
      "While walking down a path, you see some elven bread.\n"
     ]
    },
    {
     "name": "stdin",
     "output_type": "stream",
     "text": [
      "Do you want to grab it? (y/n):  y\n"
     ]
    },
    {
     "name": "stdout",
     "output_type": "stream",
     "text": [
      "You picked up some elven bread.\n"
     ]
    },
    {
     "name": "stdin",
     "output_type": "stream",
     "text": [
      "Command:  show\n"
     ]
    },
    {
     "name": "stdout",
     "output_type": "stream",
     "text": [
      "1.\ta wooden staff\n",
      "2.\ta scroll of invisibility\n",
      "3.\ta crossbow\n",
      "4.\tsome elven bread\n"
     ]
    },
    {
     "name": "stdin",
     "output_type": "stream",
     "text": [
      "Command:  drop\n"
     ]
    },
    {
     "name": "stdout",
     "output_type": "stream",
     "text": [
      "1.\ta wooden staff\n",
      "2.\ta scroll of invisibility\n",
      "3.\ta crossbow\n",
      "4.\tsome elven bread\n"
     ]
    },
    {
     "name": "stdin",
     "output_type": "stream",
     "text": [
      "Number:  4\n"
     ]
    },
    {
     "name": "stdout",
     "output_type": "stream",
     "text": [
      "You dropped some elven bread.\n"
     ]
    },
    {
     "name": "stdin",
     "output_type": "stream",
     "text": [
      "Command:  show\n"
     ]
    },
    {
     "name": "stdout",
     "output_type": "stream",
     "text": [
      "1.\ta wooden staff\n",
      "2.\ta scroll of invisibility\n",
      "3.\ta crossbow\n"
     ]
    },
    {
     "name": "stdin",
     "output_type": "stream",
     "text": [
      "Command:  exit\n"
     ]
    },
    {
     "name": "stdout",
     "output_type": "stream",
     "text": [
      "Bye!\n"
     ]
    }
   ],
   "source": [
    "import random\n",
    "\n",
    "def main():\n",
    "    print(\"The Wizard Inventory Program\\n\")\n",
    "    print(\"COMMAND MENU\")\n",
    "    print(\"walk - Walk down the path\")\n",
    "    print(\"show - Show all items\")\n",
    "    print(\"drop - Drop an item\")\n",
    "    print(\"exit - Exit program\\n\")\n",
    "    \n",
    "    inventory = [\"a wooden staff\", \"a scroll of invisibility\", \"a crossbow\"]\n",
    "    \n",
    "    while True:\n",
    "        command = input(\"Command: \").lower()\n",
    "        \n",
    "        if command == \"walk\":\n",
    "            with open(\"wizard_all_items.txt\", \"r\") as file:\n",
    "                allItems = [line.strip() for line in file]\n",
    "            \n",
    "            foundItem = random.choice(allItems)\n",
    "            print(f\"While walking down a path, you see {foundItem}.\")\n",
    "            \n",
    "            choice = input(\"Do you want to grab it? (y/n): \").lower()\n",
    "            if choice == 'y':\n",
    "                if len(inventory) >= 4:\n",
    "                    print(\"You can't carry any more items. Drop something first.\")\n",
    "                else:\n",
    "                    inventory.append(foundItem)\n",
    "                    print(f\"You picked up {foundItem}.\")\n",
    "        \n",
    "        elif command == \"show\":\n",
    "            for i, item in enumerate(inventory, 1):\n",
    "                print(f\"{i}.\\t{item}\")\n",
    "        \n",
    "        elif command == \"drop\":\n",
    "            for i, item in enumerate(inventory, 1):\n",
    "                print(f\"{i}.\\t{item}\")\n",
    "            num = int(input(\"Number: \"))\n",
    "            droppedItem = inventory.pop(num - 1)\n",
    "            print(f\"You dropped {droppedItem}.\")\n",
    "        \n",
    "        elif command == \"exit\":\n",
    "            print(\"Bye!\")\n",
    "            break\n",
    "        \n",
    "        else:\n",
    "            print(\"Input did not work.\")\n",
    "\n",
    "if __name__ == \"__main__\":\n",
    "    main()"
   ]
  },
  {
   "cell_type": "markdown",
   "metadata": {},
   "source": [
    "## 7.3 Monthly Sales\n",
    "Create a program that reads the sales for 12 months from a file and calculates the total yearly sales as well as the average monthly sales. In addition, this program should let the user edit the sales for any month.\n",
    "\n",
    "### Console:\n",
    "```powershell\n",
    "Monthly Sales program\n",
    "\n",
    "COMMAND MENU\n",
    "monthly - View monthly sales \n",
    "yearly\t- View yearly sumary \n",
    "edit\t- Edit sales for a month \n",
    "exit\t- Exit program\n",
    "\n",
    "Command: monthly \n",
    "Jan - 14317\n",
    "Feb - 3903\n",
    "Mar - 1073\n",
    "Apr - 3463\n",
    "May - 2429\n",
    "Jun - 4324\n",
    "Jul - 9762\n",
    "Aug - 15578\n",
    "Sep - 2437\n",
    "Oct - 6735\n",
    "Nov - 88\n",
    "Dec - 2497\n",
    "\n",
    "Command: yearly\n",
    "Yearly total:\t66606\n",
    "Monthly average:\t5550.5\n",
    "\n",
    "Command: edit\n",
    "Three-letter Month: Nov Sales Amount: 8854\n",
    "Sales amount for Nov was modified.\n",
    "\n",
    "Command: exit Bye!\n",
    "```\n",
    "\n",
    "### Specifications:\n",
    "- Use the attached text file named CSV file named `monthly_sales.csv` that contains the month and sales data shown above.\n",
    "- For the edit command, display an error message if the user doesn’t enter a valid three-letter abbreviation for the month.\n",
    "- When the user edits the sales amount for a month, the data should be saved to the CSV file immediately. That way, no data is lost, even if the program crashes later.\n",
    "- Round the results of the monthly average to a maximum of 2 decimal digits."
   ]
  },
  {
   "cell_type": "code",
   "execution_count": 14,
   "metadata": {},
   "outputs": [
    {
     "name": "stdout",
     "output_type": "stream",
     "text": [
      "Monthly Sales program\n",
      "\n",
      "COMMAND MENU\n",
      "monthly - View monthly sales\n",
      "yearly  - View yearly summary\n",
      "edit    - Edit sales for a month\n",
      "exit    - Exit program\n",
      "\n"
     ]
    },
    {
     "name": "stdin",
     "output_type": "stream",
     "text": [
      "Command:  monthly\n"
     ]
    },
    {
     "name": "stdout",
     "output_type": "stream",
     "text": [
      "Jan - 14317\n",
      "Feb - 3903\n",
      "Mar - 1073\n",
      "Apr - 3463\n",
      "May - 2429\n",
      "Jun - 4324\n",
      "Jul - 9762\n",
      "Aug - 15578\n",
      "Sep - 2437\n",
      "Oct - 6735\n",
      "Nov - 88\n",
      "Dec - 2497\n"
     ]
    },
    {
     "name": "stdin",
     "output_type": "stream",
     "text": [
      "Command:  yearly\n"
     ]
    },
    {
     "name": "stdout",
     "output_type": "stream",
     "text": [
      "Yearly total: 66606\n",
      "Monthly average: 5550.5\n"
     ]
    },
    {
     "name": "stdin",
     "output_type": "stream",
     "text": [
      "Command:  edit\n",
      "Three-letter Month:  mar\n",
      "Sales Amount:  2000\n"
     ]
    },
    {
     "name": "stdout",
     "output_type": "stream",
     "text": [
      "Sales amount for Mar was modified.\n"
     ]
    },
    {
     "name": "stdin",
     "output_type": "stream",
     "text": [
      "Command:  yearly\n"
     ]
    },
    {
     "name": "stdout",
     "output_type": "stream",
     "text": [
      "Yearly total: 67533\n",
      "Monthly average: 5627.75\n"
     ]
    },
    {
     "name": "stdin",
     "output_type": "stream",
     "text": [
      "Command:  exit\n"
     ]
    },
    {
     "name": "stdout",
     "output_type": "stream",
     "text": [
      "Bye!\n"
     ]
    }
   ],
   "source": [
    "import csv\n",
    "\n",
    "def main():\n",
    "    print(\"Monthly Sales program\\n\")\n",
    "    print(\"COMMAND MENU\")\n",
    "    print(\"monthly - View monthly sales\")\n",
    "    print(\"yearly  - View yearly summary\")\n",
    "    print(\"edit    - Edit sales for a month\")\n",
    "    print(\"exit    - Exit program\\n\")\n",
    "    \n",
    "    salesData = {}\n",
    "    with open('monthly_sales.csv', 'r') as file:\n",
    "        reader = csv.reader(file)\n",
    "        for row in reader:\n",
    "            if len(row) >= 2:\n",
    "                salesData[row[0]] = int(row[1])\n",
    "    \n",
    "    while True:\n",
    "        command = input(\"Command: \").lower()\n",
    "        \n",
    "        if command == \"monthly\":\n",
    "            for month, sales in salesData.items():\n",
    "                print(f\"{month} - {sales}\")\n",
    "        \n",
    "        elif command == \"yearly\":\n",
    "            total = sum(salesData.values())\n",
    "            average = round(total / len(salesData), 2)\n",
    "            print(f\"Yearly total: {total}\")\n",
    "            print(f\"Monthly average: {average}\")\n",
    "        \n",
    "        elif command == \"edit\":\n",
    "            validMonths = ['Jan','Feb','Mar','Apr','May','Jun','Jul','Aug','Sep','Oct','Nov','Dec']\n",
    "            month = input(\"Three-letter Month: \").capitalize()\n",
    "            if month in validMonths:\n",
    "                newSales = int(input(\"Sales Amount: \"))\n",
    "                salesData[month] = newSales\n",
    "                with open('monthly_sales.csv', 'w', newline='') as file:\n",
    "                    writer = csv.writer(file)\n",
    "                    for m, s in salesData.items():\n",
    "                        writer.writerow([m, s])\n",
    "                print(f\"Sales amount for {month} was modified.\")\n",
    "            else:\n",
    "                print(\"Invalid month abbreviation.\")\n",
    "        \n",
    "        elif command == \"exit\":\n",
    "            print(\"Bye!\")\n",
    "            break\n",
    "        \n",
    "        else:\n",
    "            print(\"Invalid command.\")\n",
    "\n",
    "if __name__ == \"__main__\":\n",
    "    main()"
   ]
  },
  {
   "cell_type": "code",
   "execution_count": null,
   "metadata": {},
   "outputs": [],
   "source": []
  }
 ],
 "metadata": {
  "kernelspec": {
   "display_name": "Python [conda env:base] *",
   "language": "python",
   "name": "conda-base-py"
  },
  "language_info": {
   "codemirror_mode": {
    "name": "ipython",
    "version": 3
   },
   "file_extension": ".py",
   "mimetype": "text/x-python",
   "name": "python",
   "nbconvert_exporter": "python",
   "pygments_lexer": "ipython3",
   "version": "3.12.7"
  }
 },
 "nbformat": 4,
 "nbformat_minor": 4
}
